  {
   "cell_type": "markdown",
   "id": "28077b33-c891-4762-a198-b40c8729fc61",
   "metadata": {},
   "source": [
    "# Definition of vehicle types, influencing parameters and countries"
   ]
  },
  {
   "cell_type": "code",
   "execution_count": 3,
   "id": "433652fe-0f58-4fe5-93ff-66e3f8275c61",
   "metadata": {
    "scrolled": true
   },
   "outputs": [
    {
     "data": {
      "text/html": [
       "<style type=\"text/css\">\n",
       "</style>\n",
       "<table id=\"T_92ff7\">\n",
       "  <thead>\n",
       "    <tr>\n",
       "      <th id=\"T_92ff7_level0_col0\" class=\"col_heading level0 col0\" >Vehicle_category</th>\n",
       "      <th id=\"T_92ff7_level0_col1\" class=\"col_heading level0 col1\" >EF_Large_low</th>\n",
       "      <th id=\"T_92ff7_level0_col2\" class=\"col_heading level0 col2\" >EF_Large_med</th>\n",
       "      <th id=\"T_92ff7_level0_col3\" class=\"col_heading level0 col3\" >EF_Large_up</th>\n",
       "      <th id=\"T_92ff7_level0_col4\" class=\"col_heading level0 col4\" >EF_PM10_low</th>\n",
       "      <th id=\"T_92ff7_level0_col5\" class=\"col_heading level0 col5\" >EF_PM10_med</th>\n",
       "      <th id=\"T_92ff7_level0_col6\" class=\"col_heading level0 col6\" >EF_PM10_up</th>\n",
       "      <th id=\"T_92ff7_level0_col7\" class=\"col_heading level0 col7\" >EF_PM2.5_low</th>\n",
       "      <th id=\"T_92ff7_level0_col8\" class=\"col_heading level0 col8\" >EF_PM2.5_med</th>\n",
       "      <th id=\"T_92ff7_level0_col9\" class=\"col_heading level0 col9\" >EF_PM2.5_up</th>\n",
       "    </tr>\n",
       "  </thead>\n",
       "  <tbody>\n",
       "    <tr>\n",
       "      <td id=\"T_92ff7_row0_col0\" class=\"data row0 col0\" >Two_wheeler</td>\n",
       "      <td id=\"T_92ff7_row0_col1\" class=\"data row0 col1\" >13</td>\n",
       "      <td id=\"T_92ff7_row0_col2\" class=\"data row0 col2\" >29</td>\n",
       "      <td id=\"T_92ff7_row0_col3\" class=\"data row0 col3\" >45</td>\n",
       "      <td id=\"T_92ff7_row0_col4\" class=\"data row0 col4\" >1.200000</td>\n",
       "      <td id=\"T_92ff7_row0_col5\" class=\"data row0 col5\" >2.500000</td>\n",
       "      <td id=\"T_92ff7_row0_col6\" class=\"data row0 col6\" >3.200000</td>\n",
       "      <td id=\"T_92ff7_row0_col7\" class=\"data row0 col7\" >0.600000</td>\n",
       "      <td id=\"T_92ff7_row0_col8\" class=\"data row0 col8\" >1.800000</td>\n",
       "      <td id=\"T_92ff7_row0_col9\" class=\"data row0 col9\" >2.200000</td>\n",
       "    </tr>\n",
       "    <tr>\n",
       "      <td id=\"T_92ff7_row1_col0\" class=\"data row1 col0\" >Passenger_car</td>\n",
       "      <td id=\"T_92ff7_row1_col1\" class=\"data row1 col1\" >64</td>\n",
       "      <td id=\"T_92ff7_row1_col2\" class=\"data row1 col2\" >80</td>\n",
       "      <td id=\"T_92ff7_row1_col3\" class=\"data row1 col3\" >107</td>\n",
       "      <td id=\"T_92ff7_row1_col4\" class=\"data row1 col4\" >5.300000</td>\n",
       "      <td id=\"T_92ff7_row1_col5\" class=\"data row1 col5\" >6.700000</td>\n",
       "      <td id=\"T_92ff7_row1_col6\" class=\"data row1 col6\" >8.900000</td>\n",
       "      <td id=\"T_92ff7_row1_col7\" class=\"data row1 col7\" >2.000000</td>\n",
       "      <td id=\"T_92ff7_row1_col8\" class=\"data row1 col8\" >4.100000</td>\n",
       "      <td id=\"T_92ff7_row1_col9\" class=\"data row1 col9\" >5.100000</td>\n",
       "    </tr>\n",
       "    <tr>\n",
       "      <td id=\"T_92ff7_row2_col0\" class=\"data row2 col0\" >Bus</td>\n",
       "      <td id=\"T_92ff7_row2_col1\" class=\"data row2 col1\" >297</td>\n",
       "      <td id=\"T_92ff7_row2_col2\" class=\"data row2 col2\" >344</td>\n",
       "      <td id=\"T_92ff7_row2_col3\" class=\"data row2 col3\" >558</td>\n",
       "      <td id=\"T_92ff7_row2_col4\" class=\"data row2 col4\" >27.500000</td>\n",
       "      <td id=\"T_92ff7_row2_col5\" class=\"data row2 col5\" >30.200000</td>\n",
       "      <td id=\"T_92ff7_row2_col6\" class=\"data row2 col6\" >32.700000</td>\n",
       "      <td id=\"T_92ff7_row2_col7\" class=\"data row2 col7\" >19.200000</td>\n",
       "      <td id=\"T_92ff7_row2_col8\" class=\"data row2 col8\" >21.000000</td>\n",
       "      <td id=\"T_92ff7_row2_col9\" class=\"data row2 col9\" >22.700000</td>\n",
       "    </tr>\n",
       "    <tr>\n",
       "      <td id=\"T_92ff7_row3_col0\" class=\"data row3 col0\" >LDV_light</td>\n",
       "      <td id=\"T_92ff7_row3_col1\" class=\"data row3 col1\" >106</td>\n",
       "      <td id=\"T_92ff7_row3_col2\" class=\"data row3 col2\" >112</td>\n",
       "      <td id=\"T_92ff7_row3_col3\" class=\"data row3 col3\" >142</td>\n",
       "      <td id=\"T_92ff7_row3_col4\" class=\"data row3 col4\" >10.700000</td>\n",
       "      <td id=\"T_92ff7_row3_col5\" class=\"data row3 col5\" >11.700000</td>\n",
       "      <td id=\"T_92ff7_row3_col6\" class=\"data row3 col6\" >12.900000</td>\n",
       "      <td id=\"T_92ff7_row3_col7\" class=\"data row3 col7\" >7.900000</td>\n",
       "      <td id=\"T_92ff7_row3_col8\" class=\"data row3 col8\" >9.100000</td>\n",
       "      <td id=\"T_92ff7_row3_col9\" class=\"data row3 col9\" >13.600000</td>\n",
       "    </tr>\n",
       "    <tr>\n",
       "      <td id=\"T_92ff7_row4_col0\" class=\"data row4 col0\" >HDV_medium</td>\n",
       "      <td id=\"T_92ff7_row4_col1\" class=\"data row4 col1\" >423</td>\n",
       "      <td id=\"T_92ff7_row4_col2\" class=\"data row4 col2\" >539</td>\n",
       "      <td id=\"T_92ff7_row4_col3\" class=\"data row4 col3\" >700</td>\n",
       "      <td id=\"T_92ff7_row4_col4\" class=\"data row4 col4\" >17.900000</td>\n",
       "      <td id=\"T_92ff7_row4_col5\" class=\"data row4 col5\" >19.200000</td>\n",
       "      <td id=\"T_92ff7_row4_col6\" class=\"data row4 col6\" >20.200000</td>\n",
       "      <td id=\"T_92ff7_row4_col7\" class=\"data row4 col7\" >12.400000</td>\n",
       "      <td id=\"T_92ff7_row4_col8\" class=\"data row4 col8\" >13.300000</td>\n",
       "      <td id=\"T_92ff7_row4_col9\" class=\"data row4 col9\" >14.100000</td>\n",
       "    </tr>\n",
       "    <tr>\n",
       "      <td id=\"T_92ff7_row5_col0\" class=\"data row5 col0\" >HDV_heavy</td>\n",
       "      <td id=\"T_92ff7_row5_col1\" class=\"data row5 col1\" >577</td>\n",
       "      <td id=\"T_92ff7_row5_col2\" class=\"data row5 col2\" >759</td>\n",
       "      <td id=\"T_92ff7_row5_col3\" class=\"data row5 col3\" >1032</td>\n",
       "      <td id=\"T_92ff7_row5_col4\" class=\"data row5 col4\" >39.600000</td>\n",
       "      <td id=\"T_92ff7_row5_col5\" class=\"data row5 col5\" >42.100000</td>\n",
       "      <td id=\"T_92ff7_row5_col6\" class=\"data row5 col6\" >45.100000</td>\n",
       "      <td id=\"T_92ff7_row5_col7\" class=\"data row5 col7\" >27.600000</td>\n",
       "      <td id=\"T_92ff7_row5_col8\" class=\"data row5 col8\" >29.200000</td>\n",
       "      <td id=\"T_92ff7_row5_col9\" class=\"data row5 col9\" >31.400000</td>\n",
       "    </tr>\n",
       "  </tbody>\n",
       "</table>\n"
      ],
      "text/plain": [
       "<pandas.io.formats.style.Styler at 0x231f8154200>"
      ]
     },
     "metadata": {},
     "output_type": "display_data"
    },
    {
     "data": {
      "text/html": [
       "<style type=\"text/css\">\n",
       "</style>\n",
       "<table id=\"T_c5135\">\n",
       "  <thead>\n",
       "    <tr>\n",
       "      <th id=\"T_c5135_level0_col0\" class=\"col_heading level0 col0\" >Parameter</th>\n",
       "      <th id=\"T_c5135_level0_col1\" class=\"col_heading level0 col1\" >Large_particles</th>\n",
       "      <th id=\"T_c5135_level0_col2\" class=\"col_heading level0 col2\" >Fine_particles</th>\n",
       "    </tr>\n",
       "  </thead>\n",
       "  <tbody>\n",
       "    <tr>\n",
       "      <td id=\"T_c5135_row0_col0\" class=\"data row0 col0\" >Rough_surface</td>\n",
       "      <td id=\"T_c5135_row0_col1\" class=\"data row0 col1\" >2.900000</td>\n",
       "      <td id=\"T_c5135_row0_col2\" class=\"data row0 col2\" >1.000000</td>\n",
       "    </tr>\n",
       "    <tr>\n",
       "      <td id=\"T_c5135_row1_col0\" class=\"data row1 col0\" >Aggressive_driving</td>\n",
       "      <td id=\"T_c5135_row1_col1\" class=\"data row1 col1\" >1.900000</td>\n",
       "      <td id=\"T_c5135_row1_col2\" class=\"data row1 col2\" >1.000000</td>\n",
       "    </tr>\n",
       "    <tr>\n",
       "      <td id=\"T_c5135_row2_col0\" class=\"data row2 col0\" >Load_+100kg</td>\n",
       "      <td id=\"T_c5135_row2_col1\" class=\"data row2 col1\" >1.300000</td>\n",
       "      <td id=\"T_c5135_row2_col2\" class=\"data row2 col2\" >1.700000</td>\n",
       "    </tr>\n",
       "    <tr>\n",
       "      <td id=\"T_c5135_row3_col0\" class=\"data row3 col0\" >Non_paved_road</td>\n",
       "      <td id=\"T_c5135_row3_col1\" class=\"data row3 col1\" >1.250000</td>\n",
       "      <td id=\"T_c5135_row3_col2\" class=\"data row3 col2\" >1.000000</td>\n",
       "    </tr>\n",
       "    <tr>\n",
       "      <td id=\"T_c5135_row4_col0\" class=\"data row4 col0\" >Speed_+10km/h</td>\n",
       "      <td id=\"T_c5135_row4_col1\" class=\"data row4 col1\" >1.100000</td>\n",
       "      <td id=\"T_c5135_row4_col2\" class=\"data row4 col2\" >1.100000</td>\n",
       "    </tr>\n",
       "    <tr>\n",
       "      <td id=\"T_c5135_row5_col0\" class=\"data row5 col0\" >Wet_road</td>\n",
       "      <td id=\"T_c5135_row5_col1\" class=\"data row5 col1\" >0.700000</td>\n",
       "      <td id=\"T_c5135_row5_col2\" class=\"data row5 col2\" >1.000000</td>\n",
       "    </tr>\n",
       "    <tr>\n",
       "      <td id=\"T_c5135_row6_col0\" class=\"data row6 col0\" >Temperature_+10°C</td>\n",
       "      <td id=\"T_c5135_row6_col1\" class=\"data row6 col1\" >1.000000</td>\n",
       "      <td id=\"T_c5135_row6_col2\" class=\"data row6 col2\" >0.800000</td>\n",
       "    </tr>\n",
       "    <tr>\n",
       "      <td id=\"T_c5135_row7_col0\" class=\"data row7 col0\" >Summer_tire_default</td>\n",
       "      <td id=\"T_c5135_row7_col1\" class=\"data row7 col1\" >1.000000</td>\n",
       "      <td id=\"T_c5135_row7_col2\" class=\"data row7 col2\" >1.000000</td>\n",
       "    </tr>\n",
       "    <tr>\n",
       "      <td id=\"T_c5135_row8_col0\" class=\"data row8 col0\" >Studless_winter_tire</td>\n",
       "      <td id=\"T_c5135_row8_col1\" class=\"data row8 col1\" >1.100000</td>\n",
       "      <td id=\"T_c5135_row8_col2\" class=\"data row8 col2\" >1.100000</td>\n",
       "    </tr>\n",
       "    <tr>\n",
       "      <td id=\"T_c5135_row9_col0\" class=\"data row9 col0\" >Studded_winter_tire</td>\n",
       "      <td id=\"T_c5135_row9_col1\" class=\"data row9 col1\" >1.050000</td>\n",
       "      <td id=\"T_c5135_row9_col2\" class=\"data row9 col2\" >1.050000</td>\n",
       "    </tr>\n",
       "    <tr>\n",
       "      <td id=\"T_c5135_row10_col0\" class=\"data row10 col0\" >Urban_default</td>\n",
       "      <td id=\"T_c5135_row10_col1\" class=\"data row10 col1\" >1.000000</td>\n",
       "      <td id=\"T_c5135_row10_col2\" class=\"data row10 col2\" >1.000000</td>\n",
       "    </tr>\n",
       "    <tr>\n",
       "      <td id=\"T_c5135_row11_col0\" class=\"data row11 col0\" >Intercity</td>\n",
       "      <td id=\"T_c5135_row11_col1\" class=\"data row11 col1\" >0.600000</td>\n",
       "      <td id=\"T_c5135_row11_col2\" class=\"data row11 col2\" >0.800000</td>\n",
       "    </tr>\n",
       "    <tr>\n",
       "      <td id=\"T_c5135_row12_col0\" class=\"data row12 col0\" >Highway</td>\n",
       "      <td id=\"T_c5135_row12_col1\" class=\"data row12 col1\" >0.200000</td>\n",
       "      <td id=\"T_c5135_row12_col2\" class=\"data row12 col2\" >0.100000</td>\n",
       "    </tr>\n",
       "  </tbody>\n",
       "</table>\n"
      ],
      "text/plain": [
       "<pandas.io.formats.style.Styler at 0x231fa0c4fe0>"
      ]
     },
     "metadata": {},
     "output_type": "display_data"
    }
   ],
   "source": [
    "import pandas as pd\n",
    "import matplotlib.pyplot as plt\n",
    "import numpy as np\n",
    "from IPython.display import display\n",
    "\n",
    "# Load datasets\n",
    "df_ef = pd.read_csv(\"emission_factors.csv\", sep=';', encoding= 'utf-8-sig') # list of emission factors, lower, median and upper values, in mg/vhc-km\n",
    "df_fp = pd.read_csv(\"multiplier_factors.csv\", sep=';', encoding= 'utf-8-sig') # list of parameter-specific multiplier factors, dimensionless\n",
    "\n",
    "#******* list of archetypes and associated parameters ********\n",
    "\n",
    "display(df_ef.style.hide(axis=\"index\"))\n",
    "display(df_fp.style.hide(axis=\"index\"))\n"
   ]
  },
  {
   "cell_type": "markdown",
   "id": "b3e8e837-4ba8-40ec-8fc9-73dcf53426de",
   "metadata": {},
   "source": [
    "# Inventory at the vehicle scale\n",
    "## Selecting the vehicle category and parameters for the case study"
   ]
  },
  {
   "cell_type": "markdown",
   "id": "077498bd-8d62-4538-a679-fcbb74e83d59",
   "metadata": {},
   "source": [
    "### User input!"
   ]
  },
  {
   "cell_type": "code",
   "execution_count": 6,
   "id": "5f66f016-fb7a-4eea-9993-bc9dfb7abf0c",
   "metadata": {},
   "outputs": [
    {
     "name": "stdin",
     "output_type": "stream",
     "text": [
      "Enter the vehicle to study: LDV_light\n",
      "Enter the parameters to account for: Intercity\n"
     ]
    },
    {
     "name": "stdout",
     "output_type": "stream",
     "text": [
      "The vehicle chosen is: LDV_light\n",
      "Influencing parameters considered are: Intercity\n"
     ]
    }
   ],
   "source": [
    "#Select the vehicle category to study and influencing parameters to be considered (should be written exactly as it is in the emission factors list)\n",
    "## to study Passenger cars, write \"Passenger_car\"\n",
    "vehicle_case_study = input('Enter the vehicle to study:')\n",
    "selected_parameters = input('Enter the parameters to account for:')\n",
    "\n",
    "print('The vehicle chosen is:', vehicle_case_study)\n",
    "print('Influencing parameters considered are:', selected_parameters)"
   ]
  },
  {
   "cell_type": "markdown",
   "id": "b51d8b5f-1bb5-4730-a7d9-39435aff5fe9",
   "metadata": {},
   "source": [
    "## Calculating adjusted emission factors for the chosen vehicle category"
   ]
  },
  {
   "cell_type": "code",
   "execution_count": 8,
   "id": "18708cf1-1a0f-42f6-9b1d-084511ed18e9",
   "metadata": {},
   "outputs": [
    {
     "name": "stdout",
     "output_type": "stream",
     "text": [
      "Adjusted Emission Factors for LDV_light considering Intercity:\n",
      "EF_Large_med: 67.20 mg/vhc-km\n",
      "EF_PM10_med: 9.36 mg/vhc-km\n",
      "EF_PM2.5_med: 7.28 mg/vhc-km\n"
     ]
    }
   ],
   "source": [
    "def calculate_adjusted_ef(vehicle_case_study, selected_parameters):\n",
    "    # Ensure selected_parameters is a list\n",
    "    selected_parameters = [param.strip() for param in selected_parameters.split(\",\")]\n",
    "\n",
    "    # Extract the emission factors for the selected vehicle\n",
    "    ef_values = df_ef[df_ef['Vehicle_category'] == vehicle_case_study]\n",
    "\n",
    "    if ef_values.empty:\n",
    "        print(f\"Error: Vehicle type '{vehicle_case_study}' not found in df_ef.\")\n",
    "        return None\n",
    "\n",
    "    # Define the emission factor columns to be used, here median values are selected by default\n",
    "    ef_columns = [\"EF_Large_med\", \"EF_PM10_med\", \"EF_PM2.5_med\"]\n",
    "    param_sizes = [\"Large_particles\", \"Fine_particles\", \"Fine_particles\"]\n",
    "\n",
    "    # Extract emission factors\n",
    "    ef_median = ef_values[ef_columns].iloc[0]\n",
    "\n",
    "    # Filter df_fp for selected parameters\n",
    "    filtered_fp = df_fp[df_fp[\"Parameter\"].isin(selected_parameters)]\n",
    "\n",
    "    if filtered_fp.empty:\n",
    "        print(f\"Error: No matching parameters found in df_fp for {selected_parameters}. Using default multipliers (1).\")\n",
    "        multipliers = np.array([1, 1])  # Default to 1 if no matching parameters\n",
    "    else:\n",
    "        # Multiply multipliers across selected parameters\n",
    "        multiplier_large = filtered_fp[\"Large_particles\"].prod()\n",
    "        multiplier_fine = filtered_fp[\"Fine_particles\"].prod()\n",
    "        multipliers = np.array([multiplier_large, multiplier_fine, multiplier_fine])\n",
    "\n",
    "    # Compute adjusted EF\n",
    "    adjusted_ef = dict(zip(ef_columns, ef_median * multipliers))\n",
    "\n",
    "    return adjusted_ef\n",
    "\n",
    "adjusted_ef = calculate_adjusted_ef(vehicle_case_study, selected_parameters)\n",
    "\n",
    "if adjusted_ef:\n",
    "    print(f\"Adjusted Emission Factors for {vehicle_case_study} considering {selected_parameters}:\")\n",
    "    for size, value in adjusted_ef.items():\n",
    "        print(f\"{size}: {value:.2f} mg/vhc-km\")\n"
   ]
  },
  {
   "cell_type": "markdown",
   "id": "4452b760-5a63-4c94-8831-0b5f5f4ce4ea",
   "metadata": {},
   "source": [
    "## Computing emissions for one vehicle-kilometer"
   ]
  },
  {
   "cell_type": "code",
   "execution_count": 10,
   "id": "5189771e-1b3f-45ad-8776-8a7e4ba3d0ef",
   "metadata": {},
   "outputs": [
    {
     "name": "stdout",
     "output_type": "stream",
     "text": [
      "Estimated total emissions for LDV_light considering Intercity: 83.84 mg/vhc-km\n"
     ]
    }
   ],
   "source": [
    "# Function calculating total emissions of a single vehicle over one kilometer by summing EFs of the three particle types\n",
    "#def calculate_vehicle_emissions(vehicle_case_study, selected_parameters, adjusted_ef):\n",
    "def calculate_vehicle_emissions(adjusted_ef):\n",
    "    \"\"\"\n",
    "    Calculate emissions per vehicle-km for the chosen vehicle type considering selected influencing parameters.\n",
    "    \"\"\"\n",
    "# Get the adjusted emission factors for the selected vehicle and Sum up the emissions of the three particle types\n",
    "    vehicle_emissions = sum(adjusted_ef.values())\n",
    "\n",
    "    return vehicle_emissions\n",
    "\n",
    "# Compute total emissions\n",
    "#vehicle_emissions = calculate_vehicle_emissions(vehicle_case_study, selected_parameters, adjusted_ef)\n",
    "vehicle_emissions = calculate_vehicle_emissions(adjusted_ef)\n",
    "\n",
    "print(f\"Estimated total emissions for {vehicle_case_study} considering {selected_parameters}: {vehicle_emissions:.2f} mg/vhc-km\")"
   ]
  },
  {
   "cell_type": "markdown",
   "id": "ee68a301-0f7a-4052-ae91-54dae4b47a04",
   "metadata": {},
   "source": [
    "## Data visualization"
   ]
  },
  {
   "cell_type": "code",
   "execution_count": 12,
   "id": "cf1aeda4-9969-4ba9-9f38-e3725ba84f3d",
   "metadata": {},
   "outputs": [
    {
     "data": {
      "image/png": "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",
      "text/plain": [
       "<Figure size 700x600 with 1 Axes>"
      ]
     },
     "metadata": {},
     "output_type": "display_data"
    }
   ],
   "source": [
    "baseline = df_ef[df_ef['Vehicle_category'] == vehicle_case_study].iloc[0]\n",
    "adjusted = adjusted_ef  # Already a dictionary with values\n",
    "\n",
    "# Calculate EF_2.5<PM<10 (difference between PM10 and PM2.5)\n",
    "baseline_2_5_PM_10 = baseline['EF_PM10_med'] - baseline['EF_PM2.5_med']\n",
    "adjusted_2_5_PM_10 = adjusted['EF_PM10_med'] - adjusted['EF_PM2.5_med']\n",
    "\n",
    "# Compute total emissions for each case\n",
    "baseline_total = baseline['EF_Large_med'] + baseline_2_5_PM_10 + baseline['EF_PM2.5_med']\n",
    "adjusted_total = adjusted['EF_Large_med'] + adjusted_2_5_PM_10 + adjusted['EF_PM2.5_med']\n",
    "\n",
    "# Compute percentage contributions\n",
    "baseline_perc_large = (baseline['EF_Large_med'] / baseline_total) * 100\n",
    "baseline_perc_2_5_PM_10 = (baseline_2_5_PM_10 / baseline_total) * 100\n",
    "baseline_perc_PM2_5 = (baseline['EF_PM2.5_med'] / baseline_total) * 100\n",
    "\n",
    "adjusted_perc_large = (adjusted['EF_Large_med'] / adjusted_total) * 100\n",
    "adjusted_perc_2_5_PM_10 = (adjusted_2_5_PM_10 / adjusted_total) * 100\n",
    "adjusted_perc_PM2_5 = (adjusted['EF_PM2.5_med'] / adjusted_total) * 100\n",
    "\n",
    "# Define x-axis labels\n",
    "x_labels = [\"Baseline\", \"Adjusted\"]\n",
    "x = np.arange(len(x_labels))  # Bar positions\n",
    "\n",
    "# Define colors for the three fractions\n",
    "colors = ['#69b3a2', '#ff6f61', '#6a5acd']\n",
    "\n",
    "# Create the figure\n",
    "fig, ax = plt.subplots(figsize=(7, 6))\n",
    "\n",
    "# Plot bars\n",
    "ax.bar(x[0], baseline['EF_Large_med'], color=colors[0], label='Large particles')\n",
    "ax.bar(x[0], baseline_2_5_PM_10, bottom=baseline['EF_Large_med'], color=colors[1], label='2.5 < PM < 10 µm')\n",
    "ax.bar(x[0], baseline['EF_PM2.5_med'], bottom=baseline['EF_Large_med'] + baseline_2_5_PM_10, color=colors[2], label='PM2.5')\n",
    "\n",
    "ax.bar(x[1], adjusted['EF_Large_med'], color=colors[0])\n",
    "ax.bar(x[1], adjusted_2_5_PM_10, bottom=adjusted['EF_Large_med'], color=colors[1])\n",
    "ax.bar(x[1], adjusted['EF_PM2.5_med'], bottom=adjusted['EF_Large_med'] + adjusted_2_5_PM_10, color=colors[2])\n",
    "\n",
    "# Annotate percentage labels\n",
    "for i, (perc_large, perc_2_5_PM_10, perc_PM2_5, total) in enumerate([\n",
    "    (baseline_perc_large, baseline_perc_2_5_PM_10, baseline_perc_PM2_5, baseline_total),\n",
    "    (adjusted_perc_large, adjusted_perc_2_5_PM_10, adjusted_perc_PM2_5, adjusted_total)\n",
    "]):\n",
    "    y_offset = [0, baseline['EF_Large_med'], baseline['EF_Large_med'] + baseline_2_5_PM_10] if i == 0 else \\\n",
    "               [0, adjusted['EF_Large_med'], adjusted['EF_Large_med'] + adjusted_2_5_PM_10]\n",
    "\n",
    "    for j, (perc, y) in enumerate(zip([perc_large, perc_2_5_PM_10, perc_PM2_5], y_offset)):\n",
    "        ax.annotate(f\"{perc:.1f}%\", \n",
    "                    xy=(x[i], y + total * 0.025), \n",
    "                    xytext=(x[i] + 0.6, y + total * 0.05),\n",
    "                    arrowprops=dict(arrowstyle=\"->\", lw=1),\n",
    "                    ha='center', va='center')\n",
    "                   \n",
    "# Set labels, title, and legend\n",
    "ax.set_ylabel('Emissions (mg/v-km)')\n",
    "ax.set_title(f'Baseline vs. Adjusted Emissions for {vehicle_case_study} considering {selected_parameters}')\n",
    "ax.set_xticks(x)\n",
    "ax.set_xticklabels(x_labels)\n",
    "ax.legend()\n",
    "\n",
    "# Display plot\n",
    "plt.tight_layout()\n",
    "plt.show()\n"
   ]
  },
  {
   "cell_type": "markdown",
   "id": "1d0724b4-dcb7-402e-aec9-1479cb0ade5b",
   "metadata": {},
   "source": [
    "# Inventory at the national scale"
   ]
  },
  {
   "cell_type": "markdown",
   "id": "76cd2aed-b796-464c-8e3f-36a7e26fa29e",
   "metadata": {},
   "source": [
    "## List of inventoried countries and traffic data (retrieved from Eurostat and UNECE databases)"
   ]
  },
  {
   "cell_type": "code",
   "execution_count": 15,
   "id": "5f4cad75-5ec7-486f-bdb7-37d5ba9dcc5d",
   "metadata": {},
   "outputs": [
    {
     "name": "stdout",
     "output_type": "stream",
     "text": [
      "['Countries', 'Total_vehicles', 'Lorries_all', 'Lorries_<3.5tons', 'Lorries_3.5>_<6tons', 'Lorries>6tons', 'Motorcycles', 'Passenger_cars', 'Buses']\n"
     ]
    }
   ],
   "source": [
    "# Load country traffic activity dataset\n",
    "df_traffic = pd.read_csv(\"traffic_data.csv\", sep=';', encoding= 'utf-8-sig') # Traffic data per country and vehicle type, in millions of vhc-km\n",
    "\n",
    "print(df_traffic.columns.tolist())  # Display all column names\n"
   ]
  },
  {
   "cell_type": "code",
   "execution_count": 16,
   "id": "302a9d93-7950-4d63-92be-8722ce2bb75d",
   "metadata": {},
   "outputs": [
    {
     "name": "stdout",
     "output_type": "stream",
     "text": [
      "Mapped category for LDV_light: Lorries_<3.5tons\n"
     ]
    }
   ],
   "source": [
    "vehicle_mapping = {\n",
    "    \"Passenger_car\": \"passenger_cars\",\n",
    "    \"Two_wheeler\": \"Motorcycles\",\n",
    "    \"Bus\": \"Buses\",\n",
    "    \"LDV_light\": \"Lorries_<3.5tons\",\n",
    "    \"HDV_medium\": \"Lorries_3.5>_<6tons\",\n",
    "    \"HDV_heavy\": \"Lorries>6tons\"\n",
    "}\n",
    "\n",
    "def match_vehicle_name(vehicle_category):\n",
    "    \"\"\"\n",
    "    Returns the corresponding vehicle category name in df_traffic.\n",
    "    If no match is found, return the original name.\n",
    "    \"\"\"\n",
    "    return vehicle_mapping.get(vehicle_category, vehicle_category)  # Default to original name if no match\n",
    "\n",
    "# Ensure mapping works\n",
    "vehicle_case_study = \"LDV_light\"  # Example input\n",
    "\n",
    "if vehicle_case_study in vehicle_mapping:\n",
    "    mapped_category = vehicle_mapping[vehicle_case_study]\n",
    "    print(f\"Mapped category for {vehicle_case_study}: {mapped_category}\")\n",
    "else:\n",
    "    print(f\"Error: No mapping found for '{vehicle_case_study}'\")\n"
   ]
  },
  {
   "cell_type": "markdown",
   "id": "557bfd1d-8d68-4445-b028-f118f87e2283",
   "metadata": {},
   "source": [
    "## Computing emissions"
   ]
  },
  {
   "cell_type": "markdown",
   "id": "12fd1401-2a25-4a09-8e64-b790e4f3b886",
   "metadata": {},
   "source": [
    "### User input!"
   ]
  },
  {
   "cell_type": "code",
   "execution_count": 19,
   "id": "d68e7986-db0f-4d84-ae5c-36261d0c5bf6",
   "metadata": {},
   "outputs": [
    {
     "name": "stdin",
     "output_type": "stream",
     "text": [
      "Enter the country to study:  Netherlands\n",
      "Enter the vehicle to study (or \"Total_vehicles\" for all categories):  LDV_light\n",
      "Enter the parameters to account for:  Intercity\n"
     ]
    },
    {
     "name": "stdout",
     "output_type": "stream",
     "text": [
      "🌍 Country considered is: Netherlands\n",
      "🚗 Vehicle category chosen is: LDV_light (Mapped: Lorries_<3.5tons)\n",
      "📊 Influencing parameters considered are: Intercity\n"
     ]
    }
   ],
   "source": [
    "# Select the country\n",
    "country = input('Enter the country to study: ').strip()\n",
    "\n",
    "# Check if the country exists in the dataset\n",
    "if country not in df_traffic[\"Countries\"].values:\n",
    "    print(f\"Error: No traffic data found for '{country}'. Please check the country name.\")\n",
    "\n",
    "# Select the vehicle category\n",
    "vehicle_category_study = input('Enter the vehicle to study (or \"Total_vehicles\" for all categories): ').strip()\n",
    "\n",
    "# Convert user input using mapping if it exists\n",
    "vehicle_category_study_mapped = vehicle_mapping.get(vehicle_category_study, vehicle_category_study)\n",
    "\n",
    "# Check if the mapped vehicle category exists in the dataset\n",
    "if vehicle_category_study_mapped not in df_traffic.columns:\n",
    "    print(f\"Warning: Vehicle category '{vehicle_category_study_mapped}' not found in traffic dataset. Please check the name.\")\n",
    "\n",
    "# Select influencing parameters\n",
    "selected_parameters = input('Enter the parameters to account for: ').strip()\n",
    "\n",
    "# Print summary\n",
    "print(f\"🌍 Country considered is: {country}\")\n",
    "print(f\"🚗 Vehicle category chosen is: {vehicle_category_study} (Mapped: {vehicle_category_study_mapped})\")\n",
    "print(f\"📊 Influencing parameters considered are: {selected_parameters}\")\n"
   ]
  },
  {
   "cell_type": "code",
   "execution_count": 32,
   "id": "1f6367b8-94c9-496d-869c-4ada714a71aa",
   "metadata": {},
   "outputs": [],
   "source": [
    "def weighted_ef_lorries(country_data, lorry_category_study, selected_parameters):\n",
    "    \"\"\"\n",
    "    Computes the adjusted EF for a given lorry category. \n",
    "    If data exists for a specific category, it is used directly.\n",
    "    If data is missing but 'Lorries_all' exists, the mean EF of all lorry types is used.\n",
    "    \"\"\"\n",
    "    print(f\"\\n🔎 Processing {lorry_category_study} for {country_data['Countries'].values[0]}\")\n",
    "\n",
    "    # Mapping from traffic categories to model categories\n",
    "    lorry_categories = {\n",
    "        \"Lorries_<3.5tons\": \"HDV_light\",\n",
    "        \"Lorries_3.5>_<6tons\": \"HDV_medium\",\n",
    "        \"Lorries>6tons\": \"HDV_heavy\"\n",
    "    }\n",
    "\n",
    "    # 🚨 Case 1: Use the specific lorry category if available\n",
    "    if not pd.isna(country_data.get(lorry_category_study, pd.Series([None])).values[0]):\n",
    "        vkm = country_data[lorry_category_study].values[0] * 1e6  # Convert millions to vhc-km\n",
    "        adjusted_ef_category = adjusted_ef(lorry_category_study, selected_parameters)  \n",
    "\n",
    "        print(f\"✅ Direct data for {lorry_category_study}: vkm = {vkm:.2e}, EF = {adjusted_ef_category:.2f} g/km\")\n",
    "        return vkm * adjusted_ef_category  # Compute emissions directly\n",
    "\n",
    "    # 🚨 Case 2: If the specific category is missing, use Lorries_all if available\n",
    "    elif \"Lorries_all\" in country_data.columns and not pd.isna(country_data[\"Lorries_all\"].values[0]):\n",
    "        print(f\"⚠️ No specific data for {lorry_category_study}, using 'Lorries_all'.\")\n",
    "\n",
    "        sum_ar = 0  # Sum of activity ratios\n",
    "        sum_ef_ar = 0  # Sum of (activity ratio * EF)\n",
    "\n",
    "        for traffic_category, model_category in lorry_categories.items():\n",
    "            if traffic_category in country_data.columns and not pd.isna(country_data[traffic_category].values[0]):\n",
    "                ar = country_data[traffic_category].values[0]  # vkm from traffic data\n",
    "                ef_lorries_all = adjusted_ef(model_category, selected_parameters)  # Get adjusted EF\n",
    "\n",
    "                sum_ar += ar\n",
    "                sum_ef_ar += ar * ef_lorries_all  # Weighted sum of EF\n",
    "\n",
    "                print(f\"  ➤ {traffic_category}: AR = {ar:.2e}, EF = {ef_lorries_all:.2f} g/km\")\n",
    "\n",
    "        # Compute mean EF for Lorries_all if at least one category exists\n",
    "        if sum_ar > 0:\n",
    "            mean_ef_lorries_all = sum_ef_ar / sum_ar  \n",
    "            vkm_all = country_data[\"Lorries_all\"].values[0] * 1e6  \n",
    "\n",
    "            print(f\"⚡ Mean EF for 'Lorries_all': {mean_ef_lorries_all:.2f} g/km\")\n",
    "            print(f\"  ➤ vkm_all = {vkm_all:.2e} km\")\n",
    "\n",
    "            return vkm_all * mean_ef_lorries_all  # Multiply by vkm_all to get total emissions\n",
    "\n",
    "        print(\"🚨 No valid traffic data found for 'Lorries_all' mean EF calculation.\")\n",
    "\n",
    "    # 🚨 Case 3: No data available\n",
    "    print(f\"❌ No valid data found for {lorry_category_study} in {country_data['Countries'].values[0]}\")\n",
    "    return None\n"
   ]
  },
  {
   "cell_type": "code",
   "execution_count": 34,
   "id": "54b75059-c593-4ac1-a28d-e1c688dcaaad",
   "metadata": {},
   "outputs": [
    {
     "name": "stdout",
     "output_type": "stream",
     "text": [
      "    Countries  Total_vehicles  Lorries_all  Lorries_<3.5tons  \\\n",
      "0     Austria         82622.0      11992.0               NaN   \n",
      "1  Azerbadjan         24666.0       2264.0               NaN   \n",
      "2     Belarus          1035.0        513.0               NaN   \n",
      "3     Belgium         99910.0      19300.0               NaN   \n",
      "4    Bulgaria          1130.0          NaN               NaN   \n",
      "\n",
      "   Lorries_3.5>_<6tons  Lorries>6tons  Motorcycles  Passenger_cars  Buses  \n",
      "0                  NaN            NaN       2151.0         67951.0  528.0  \n",
      "1                  NaN            NaN          2.0         21967.0  433.0  \n",
      "2                  NaN            NaN          NaN           140.0  382.0  \n",
      "3                  NaN            NaN       1220.0         78730.0  660.0  \n",
      "4                  NaN            NaN        428.0             NaN  702.0  \n"
     ]
    }
   ],
   "source": [
    "print(df_traffic.head())  # Check if \"Lorries_all\" is actually present\n"
   ]
  },
  {
   "cell_type": "code",
   "execution_count": 30,
   "id": "17f5779f-4d95-46f0-8bf3-789de2d89d96",
   "metadata": {},
   "outputs": [
    {
     "ename": "SyntaxError",
     "evalue": "invalid syntax (121016735.py, line 26)",
     "output_type": "error",
     "traceback": [
      "\u001b[1;36m  Cell \u001b[1;32mIn[30], line 26\u001b[1;36m\u001b[0m\n\u001b[1;33m    elif \"Lorries_all\" in country_data.columns and not pd.isna(country_data[\"Lorries_all\"].values[0]):\u001b[0m\n\u001b[1;37m    ^\u001b[0m\n\u001b[1;31mSyntaxError\u001b[0m\u001b[1;31m:\u001b[0m invalid syntax\n"
     ]
    }
   ],
   "source": [
    "def weighted_ef_lorries(country_data, lorry_category_study, selected_parameters):\n",
    "    \"\"\"\n",
    "    Computes the adjusted EF for a given lorry category. \n",
    "    If data exists for a specific category, it is used directly.\n",
    "    If data is missing but 'Lorries_all' exists, the mean EF of all lorry types is used.\n",
    "    \"\"\"\n",
    "    # Mapping from traffic categories to model categories\n",
    "    lorry_categories = {\n",
    "        \"Lorries_<3.5tons\": \"HDV_light\",\n",
    "        \"Lorries_3.5>_<6tons\": \"HDV_medium\",\n",
    "        \"Lorries>6tons\": \"HDV_heavy\"\n",
    "    }\n",
    "\n",
    "    # Case 1: Use the specific lorry category if available\n",
    "    if not pd.isna(country_data.get(lorry_category_study, pd.Series([None])).values[0]):\n",
    "        vkm = country_data[lorry_category_study].values[0] * 1e6  # Convert millions to vhc-km\n",
    "        adjusted_ef_category = adjusted_ef(lorry_category_study, selected_parameters)  \n",
    "\n",
    "        print(f\"vkm: {vkm:.2e} km\")\n",
    "        print(f\"EF: {ef_vkm:.2f} g/km\")\n",
    "        return vkm * adjusted_ef_category  # Compute emissions directly\n",
    "\n",
    "    \n",
    "    # Case 2: If the specific category is missing, use Lorries_all if available\n",
    "    elif \"Lorries_all\" in country_data.columns and not pd.isna(country_data[\"Lorries_all\"].values[0]):\n",
    "        sum_ar = 0  # Sum of activity ratios\n",
    "        sum_ef_ar = 0  # Sum of (activity ratio * EF)\n",
    "\n",
    "        for traffic_category, model_category in lorry_categories.items():\n",
    "            if traffic_category in country_data.columns and not pd.isna(country_data[traffic_category].values[0]):\n",
    "                ar = country_data[traffic_category].values[0]  # vkm from traffic data\n",
    "                ef_lorries_all = adjusted_ef(model_category, selected_parameters)  # Get adjusted EF\n",
    "\n",
    "                sum_ar += ar\n",
    "                sum_ef_ar += ar * ef  # Weighted sum of EF\n",
    "\n",
    "                print(f\"{category}: AR = {ar}, EF_lorries_all = {ef_lorries_all:.2f}\")\n",
    "\n",
    "        # Compute mean EF for Lorries_all if at least one category exists\n",
    "        if sum_ar > 0:\n",
    "            mean_ef_lorries_all = sum_ef_ar / sum_ar  \n",
    "            vkm_all = country_data[\"Lorries_all\"].values[0] * 1e6  \n",
    "            \n",
    "            print(f\"Mean EF computed for Lorries_all: {mean_ef_lorries_all:.2f} g/vkm\")\n",
    "            return vkm_all * mean_ef  # Multiply by vkm_all to get total emissions\n",
    "\n",
    "   # return None  # If no data available, return None\n"
   ]
  },
  {
   "cell_type": "code",
   "execution_count": 24,
   "id": "7eca4945-2777-4575-aaef-b380fb6cd7f9",
   "metadata": {},
   "outputs": [],
   "source": [
    "def calculate_national_emissions(country, vehicle_category_study, selected_parameters):\n",
    "    \"\"\"\n",
    "    Computes national TWP emissions for a given vehicle category in a country.\n",
    "    Handles special cases for lorry categories.\n",
    "    \"\"\"\n",
    "    national_emissions = 0\n",
    "\n",
    "    # Extract country-specific traffic data\n",
    "    country_data = df_traffic[df_traffic[\"Countries\"] == country]\n",
    "\n",
    "    # Special case for lorries: use weighted EF function\n",
    "    if vehicle_category_study in [\"Lorries_<3.5tons\", \"Lorries_3.5>_<6tons\", \"Lorries>6tons\", \"Lorries_all\"]:\n",
    "        emissions = weighted_ef_lorries(country_data, vehicle_category_study, selected_parameters)\n",
    "        if emissions is not None:\n",
    "            national_emissions += emissions / 1e9  # Convert to tons\n",
    "\n",
    "            print(f\"Computed emissions: {emissions:.2f} g → {emissions / 1e9:.2f} tons\")\n",
    "        return national_emissions  # return for lorries case\n",
    "\n",
    "    # Standard case for other vehicle categories\n",
    "    if vehicle_category_study in country_data.columns and not pd.isna(country_data[vehicle_category_study].values[0]):\n",
    "        vkm = country_data[vehicle_category_study].values[0] * 1e6  # Convert millions to vhc-km\n",
    "        adjusted_ef_category = adjusted_ef(vehicle_category_study, selected_parameters)\n",
    "        national_emissions += (vkm * adjusted_ef_category) / 1e9  # Convert to tons\n",
    "\n",
    "        print(f\"Vehicle-km (vkm): {vkm:.2e} km\")\n",
    "        print(f\"Adjusted EF: {adjusted_ef_category:.2f} g/km\")\n",
    "        print(f\"   ➤ Computed emissions: {emissions:.2f} tons\")\n",
    "\n",
    "    return national_emissions  # Returns total emissions in tons for other vehicle categories\n"
   ]
  },
  {
   "cell_type": "code",
   "execution_count": 26,
   "id": "6218e6aa-2315-4f90-8ae4-061521c01a83",
   "metadata": {},
   "outputs": [
    {
     "name": "stdout",
     "output_type": "stream",
     "text": [
      "Estimated national emissions in France: 0.00 tons per year\n"
     ]
    }
   ],
   "source": [
    "emissions_france = calculate_national_emissions(\"France\", \"LDV_light\", selected_parameters)\n",
    "print(f\"Estimated national emissions in France: {emissions_france:.2f} tons per year\")\n"
   ]
  },
  {
   "cell_type": "code",
   "execution_count": 22,
   "id": "82cc6c08-8816-409c-9251-712885e67cda",
   "metadata": {},
   "outputs": [],
   "source": [
    "def calculate_national_emissions(country, vehicle_category_study, selected_parameters, adjusted_ef):\n",
    "    \"\"\"\n",
    "    Calculate national TWP emissions for the chosen vehicle category in a country.\n",
    "    \"\"\"\n",
    "    country_data = df_traffic[df_traffic[\"Countries\"] == country]\n",
    "\n",
    "    # Check if we are studying lorries\n",
    "    if vehicle_category_study == \"Lorries_all\":\n",
    "        ef = calculate_weighted_ef_for_lorries(country_data, adjusted_ef)\n",
    "    else:\n",
    "        ef = calculate_vehicle_emissions(vehicle_category_study, adjusted_ef)\n",
    "\n",
    "    # Retrieve vkm (million km → convert to km)\n",
    "    vkm = country_data[vehicle_category_study].values[0] * 1e6 if vehicle_category_study in country_data.columns else 0\n",
    "\n",
    "    # Compute emissions (convert to tons)\n",
    "    national_emissions = (vkm * ef) / 1e9 if ef is not None else 0\n",
    "\n",
    "    return national_emissions\n"
   ]
  },
  {
   "cell_type": "code",
   "execution_count": 23,
   "id": "685d5ab2-afb8-4378-a2f1-7499ec900bc4",
   "metadata": {},
   "outputs": [
    {
     "ename": "IndentationError",
     "evalue": "unexpected indent (1707861481.py, line 5)",
     "output_type": "error",
     "traceback": [
      "\u001b[1;36m  Cell \u001b[1;32mIn[23], line 5\u001b[1;36m\u001b[0m\n\u001b[1;33m    for traffic_category, model_category in lorry_categories.items():\u001b[0m\n\u001b[1;37m    ^\u001b[0m\n\u001b[1;31mIndentationError\u001b[0m\u001b[1;31m:\u001b[0m unexpected indent\n"
     ]
    }
   ],
   "source": [
    "def calculate_national_emissions(country, vehicle_category_study, selected_parameters, adjusted_ef):\n",
    "    national_emissions = 0  # Initialize emissions\n",
    "\n",
    "    country_data = df_traffic[df_traffic[\"Countries\"] == country]\n",
    "        for traffic_category, model_category in lorry_categories.items():\n",
    "            if traffic_category in country_data.columns and not pd.isna(country_data[traffic_category].values[0]):\n",
    "                ar = country_data[traffic_category].values[0]\n",
    "                ef = calculate_vehicle_emissions(model_category, selected_parameters, adjusted_ef)\n",
    "                sum_ar += ar\n",
    "                sum_ef_ar += ar * ef\n",
    "                available_categories.append(traffic_category)\n",
    "\n",
    "        if sum_ar > 0:\n",
    "            mean_ef = sum_ef_ar / sum_ar  # Compute weighted mean EF\n",
    "        else:\n",
    "            raise ValueError(f\"No valid vehicle categories found for {country}\")\n",
    "\n",
    "        vkm = country_data[\"Lorries_all\"].values[0] * 1e6  # Use Lorries_all VKT\n",
    "        ef_vkm = mean_ef  # Use computed mean EF\n",
    "\n",
    "    else:\n",
    "        raise ValueError(f\"No traffic data available for {vehicle_category_study} or Lorries_all in {country}\")\n",
    "\n",
    "    # Compute emissions\n",
    "    national_emissions += (vkm * ef_vkm) / 1e9  # Convert g to tons\n",
    "\n",
    "    return national_emissions  # Return emissions\n",
    "\n",
    "# ✅ Example usage\n",
    "national_emission = calculate_national_emissions(\"Netherlands\", \"Lorries_<3.5tons\", [\"Studless_winter_tire\"], adjusted_ef)\n",
    "\n",
    "# ✅ Print result\n",
    "print(f\"Estimated national emissions in France: {national_emission:.2f} tons per year\")"
   ]
  },
  {
   "cell_type": "code",
   "execution_count": null,
   "id": "413d2ede-cbc9-44f8-92d4-6a2ac4a68358",
   "metadata": {},
   "outputs": [],
   "source": [
    "def calculate_national_emissions(country, vehicle_category_study, selected_parameters):\n",
    "    national_emissions = 0 # initialization\n",
    "\n",
    "    country_data = df_traffic[df_traffic[\"Countries\"] == country]\n",
    "    \n",
    "    # Check if vehicle_category_study data is available\n",
    "    if vehicle_category_study in country_data.columns and not pd.isna(country_data[vehicle_category_study].values[0]):\n",
    "        vkm = country_data[vehicle_category_study].values[0] * 1e6  # Convert millions to vhc-km\n",
    "        ef_vkm = calculate_vehicle_emissions(vehicle_category_study, selected_parameters, adjusted_ef)\n",
    "\n",
    "    # Special case for lorries: the three categories, 'Lorries_<3.5tons', 'Lorries_3.5>_<6tons', 'Lorries>6tons', are also aggregated under the term 'Lorries_all' \n",
    "    # If one of individual categories is missing, check for Lorries_all\n",
    "    elif \"Lorries_all\" in country_data.columns and not pd.isna(country_data[\"Lorries_all\"].values[0]):\n",
    "        available_categories = []\n",
    "        sum_ar = 0\n",
    "        sum_ef_ar = 0\n",
    "\n",
    "        lorry_categories = {\n",
    "            \"Lorries_<3.5tons\": \"HDV_light\",\n",
    "            \"Lorries_3.5>_<6tons\": \"HDV_medium\",\n",
    "            \"Lorries>6tons\": \"HDV_heavy\"\n",
    "        }\n",
    "\n",
    "        for traffic_category, model_category in lorry_categories.items():\n",
    "            if traffic_category in country_data.columns and not pd.isna(country_data[traffic_category].values[0]):\n",
    "                ar = country_data[traffic_category].values[0]\n",
    "                ef = calculate_vehicle_emissions(adjusted_ef)\n",
    "                sum_ar += ar\n",
    "                sum_ef_ar += ar * ef\n",
    "                available_categories.append(traffic_category)\n",
    "\n",
    "        if sum_ar > 0:\n",
    "            mean_ef = sum_ef_ar / sum_ar  # Compute weighted mean EF\n",
    "        else:\n",
    "            raise ValueError(f\"No valid vehicle categories found for {country}\")\n",
    "\n",
    "        vkm = country_data[\"Lorries_all\"].values[0] * 1e6  # Convert to vhc-km\n",
    "        ef_vkm = mean_ef\n",
    "    \n",
    "    else:\n",
    "        raise ValueError(f\"No traffic data available for {vehicle_category_study} or Lorries_all in {country}\")\n",
    "\n",
    "    # Compute emissions\n",
    "    national_emissions += (vkm * ef_vkm) / 1e9  # Convert g to tons\n",
    "    \n",
    "#    vkm = country_data[vehicle_category_study_mapped].values[0] * 1e6  # converts millions of vkm to vkm\n",
    "#    print(f\"Total vkm for {country}: {vkm:.2f} vkm\")  # Print inside function\n",
    "    \n",
    "#    adjusted_ef_category = calculate_adjusted_ef(vehicle_category_study, selected_parameters)\n",
    "#    emission_per_vkm = calculate_vehicle_emissions(adjusted_ef_category)\n",
    "#    national_emissions += (vkm * emission_per_vkm) / 1e9  \n",
    "\n",
    "    return national_emissions\n",
    "\n",
    "national_emissions = calculate_national_emissions(country, vehicle_category_study, selected_parameters)\n",
    "print(f\"Estimated national emissions in {country} from {vehicle_category_study}: {national_emissions:.2f} tons per year\")\n"
   ]
  },
  {
   "cell_type": "code",
   "execution_count": null,
   "id": "96d7d069-98a4-4e84-b849-c175668e6d38",
   "metadata": {},
   "outputs": [],
   "source": [
    "#    if vehicle_category_study.lower() == \"Total_vehicles\":\n",
    "#        vkm = country_data[\"Total_vehicles\"].values[0] * 1e6  \n",
    "#        print(f\"Total vkm for {country}: {vkm:.2f}\")  # Print inside the function\n",
    "\n",
    "#        fleet_ef = 0\n",
    "#        for category in df_ef[\"Vehicle_category\"]:\n",
    "#            category_mapped = vehicle_mapping.get(category, category)  \n",
    "#            if category_mapped in df_traffic.columns:\n",
    "#                adjusted_ef_category = calculate_adjusted_ef(category, selected_parameters)\n",
    "#                ef_vkm = calculate_vehicle_emissions(category, selected_parameters, adjusted_ef_category)\n",
    "#                fleet_vkm = country_data[category_mapped].values[0] * 1e6  \n",
    "#                fleet_ef += fleet_vkm * ef_vkm  \n",
    "\n",
    "#        total_emissions = fleet_ef / 1e9  \n",
    "\n",
    "#    else: # calculation for a single vehicle category\n",
    "        #vehicle_category_study_mapped = vehicle_mapping.get(vehicle_category_study, vehicle_category_study) "
   ]
  },
  {
   "cell_type": "code",
   "execution_count": null,
   "id": "e164af5c-d73b-49ef-a5ea-68cb6c0027be",
   "metadata": {},
   "outputs": [],
   "source": []
  }
 ],
 "metadata": {
  "kernelspec": {
   "display_name": "Python 3 (ipykernel)",
   "language": "python",
   "name": "python3"
  },
  "language_info": {
   "codemirror_mode": {
    "name": "ipython",
    "version": 3
   },
   "file_extension": ".py",
   "mimetype": "text/x-python",
   "name": "python",
   "nbconvert_exporter": "python",
   "pygments_lexer": "ipython3",
   "version": "3.12.4"
  }
 },
 "nbformat": 4,
 "nbformat_minor": 5
}
